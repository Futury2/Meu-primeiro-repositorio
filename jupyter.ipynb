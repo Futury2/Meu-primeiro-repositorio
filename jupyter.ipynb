{
 "cells": [
  {
   "cell_type": "markdown",
   "metadata": {},
   "source": [
    "\n",
    "<h1 style=\" color: RGB(255,20,150) ;\"> Testando o Git Hub para co-Work de ModSim  </h1>"
   ]
  },
  {
   "cell_type": "code",
   "execution_count": null,
   "metadata": {},
   "outputs": [],
   "source": [
    "import matplotlib.pyplot as plt\n",
    "import numpy as np\n",
    "from scipy.integrate import odeint\n",
    "\n",
    "A0 = 30\n",
    "B0 = 100\n",
    "x_0 = [A0,B0]\n",
    "lista_t = np.arange(0,5000)\n",
    "lista_x = odeint(modelo,x_0,lista_t, args= (0.5,0.1))\n",
    "\n",
    "plt.plot(lista_t,lista_x, label = 'Presa x Predador')\n",
    "plt.xlabel(\"Tempo(horas)\")\n",
    "plt.ylabel(\"Presa x Predador\")\n",
    "plt.title(\"Solução do Modelo\")\n",
    "plt.legend()\n",
    "plt.grid()\n",
    "plt.show()"
    "def modelo(x,t,ka,kb):\n",
    "    a = x[0]\n",
    "    b = x[1]\n",
    "    dadt = b* ka\n",
    "    dbdt = -a* kb\n",
    "    return [dadt,dbdt]"
   ]
  }
 ],
 "metadata": {
  "language_info": {
   "name": "python"
  }
 },
 "nbformat": 4,
 "nbformat_minor": 2
}
