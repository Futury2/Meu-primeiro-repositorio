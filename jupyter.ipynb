{
 "cells": [
  {
   "cell_type": "markdown",
   "metadata": {},
   "source": [
    "\n",
    "<h1 style=\" color: RGB(255,20,150) ;\"> Testando o Git Hub para co-Work de ModSim  </h1>"
   ]
  },
  {
   "cell_type": "code",
   "execution_count": null,
   "metadata": {},
   "outputs": [],
   "source": [
    "def modelo(x,t,ka,kb):\n",
    "    a = x[0]\n",
    "    b = x[1]\n",
    "    dadt = b* ka\n",
    "    dbdt = -a* kb\n",
    "    return [dadt,dbdt]"
   ]
  }
 ],
 "metadata": {
  "language_info": {
   "name": "python"
  }
 },
 "nbformat": 4,
 "nbformat_minor": 2
}
