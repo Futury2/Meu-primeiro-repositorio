{
 "cells": [
  {
   "cell_type": "code",
   "execution_count": null,
   "metadata": {},
   "outputs": [],
   "source": [
    "def modelo(x,t,ka,kb):\n",
    "    a = x[0]\n",
    "    b = x[1]\n",
    "    dadt = b* ka\n",
    "    dbdt = -a* kb\n",
    "    return [dadt,dbdt]"
   ]
  }
 ],
 "metadata": {
  "language_info": {
   "name": "python"
  }
 },
 "nbformat": 4,
 "nbformat_minor": 2
}
