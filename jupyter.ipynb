{
 "cells": [
  {
   "cell_type": "code",
   "execution_count": null,
   "metadata": {},
   "outputs": [],
   "source": [
    "import matplotlib.pyplot as plt\n",
    "import numpy as np\n",
    "from scipy.integrate import odeint\n",
    "\n",
    "A0 = 30\n",
    "B0 = 100\n",
    "x_0 = [A0,B0]\n",
    "lista_t = np.arange(0,5000)\n",
    "lista_x = odeint(modelo,x_0,lista_t, args= (0.5,0.1))\n",
    "\n",
    "plt.plot(lista_t,lista_x, label = 'Presa x Predador')\n",
    "plt.xlabel(\"Tempo(horas)\")\n",
    "plt.ylabel(\"Presa x Predador\")\n",
    "plt.title(\"Solução do Modelo\")\n",
    "plt.legend()\n",
    "plt.grid()\n",
    "plt.show()"
   ]
  }
 ],
 "metadata": {
  "language_info": {
   "name": "python"
  }
 },
 "nbformat": 4,
 "nbformat_minor": 2
}
